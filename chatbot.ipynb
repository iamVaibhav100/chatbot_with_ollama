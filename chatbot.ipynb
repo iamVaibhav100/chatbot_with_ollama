{
 "cells": [
  {
   "cell_type": "code",
   "execution_count": 2,
   "id": "fd7bc79b-2908-4a70-9cbb-60f259fdd257",
   "metadata": {},
   "outputs": [],
   "source": [
    "import os\n",
    "import requests\n",
    "import json\n",
    "from typing import List\n",
    "from dotenv import load_dotenv\n",
    "from bs4 import BeautifulSoup\n",
    "from IPython.display import Markdown, display, update_display\n",
    "from openai import OpenAI\n",
    "import ollama\n",
    "import gradio as gr"
   ]
  },
  {
   "cell_type": "code",
   "execution_count": 3,
   "id": "43a0fa64-3334-49a8-9ce2-47f6d77f5115",
   "metadata": {},
   "outputs": [],
   "source": [
    "OLLAMA_API = \"http://localhost:11434/api/chat\"\n",
    "MODEL = \"llama3.1\""
   ]
  },
  {
   "cell_type": "code",
   "execution_count": 4,
   "id": "76583ca2-1ffa-454f-9832-278b37811199",
   "metadata": {},
   "outputs": [],
   "source": [
    "system_prompt = \"You are a smart and humorous assistant who loves to explain stuff in simple and easy-to-understand way along with an example.\""
   ]
  },
  {
   "cell_type": "code",
   "execution_count": 10,
   "id": "09c54d56-6718-4685-9268-d05b212cbc3b",
   "metadata": {},
   "outputs": [],
   "source": [
    "def chat(message, history):\n",
    "    messages = [{\"role\": \"system\", \"content\": system_prompt}]\n",
    "    for user_message, assitant_message in history:\n",
    "        messages.append({\"role\": \"user\", \"content\": user_message})\n",
    "        messages.append({\"role\": \"assistant\", \"content\": assitant_message})\n",
    "    messages.append({\"role\": \"user\", \"content\": message})\n",
    "\n",
    "    print(f\"History is: {history}\")\n",
    "    print(f\"Message is: {message}\")\n",
    "\n",
    "    ollama_via_openai = OpenAI(base_url='http://localhost:11434/v1', api_key='ollama')\n",
    "    stream = ollama_via_openai.chat.completions.create(\n",
    "        model=MODEL,\n",
    "        messages=messages,\n",
    "        stream=True\n",
    "    )\n",
    "\n",
    "    response = \"\"\n",
    "    for chunk in stream:\n",
    "        response += chunk.choices[0].delta.content or \"\"\n",
    "        yield response"
   ]
  },
  {
   "cell_type": "code",
   "execution_count": null,
   "id": "d2803b99-a82e-461e-bfd1-df2362a27d77",
   "metadata": {},
   "outputs": [],
   "source": "gr.ChatInterface(fn=chat).launch()"
  }
 ],
 "metadata": {
  "kernelspec": {
   "display_name": "Python 3 (ipykernel)",
   "language": "python",
   "name": "python3"
  },
  "language_info": {
   "codemirror_mode": {
    "name": "ipython",
    "version": 3
   },
   "file_extension": ".py",
   "mimetype": "text/x-python",
   "name": "python",
   "nbconvert_exporter": "python",
   "pygments_lexer": "ipython3",
   "version": "3.12.6"
  }
 },
 "nbformat": 4,
 "nbformat_minor": 5
}
